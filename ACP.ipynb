{
 "cells": [
  {
   "cell_type": "code",
   "execution_count": 72,
   "id": "0a609779",
   "metadata": {},
   "outputs": [],
   "source": [
    "import numpy as np\n",
    "import pandas as pd\n",
    "from scipy.stats import pearsonr\n",
    "import matplotlib.pyplot as plt \n",
    "from sklearn.decomposition import PCA \n",
    "from sklearn.preprocessing import StandardScaler"
   ]
  },
  {
   "cell_type": "markdown",
   "id": "631837ce",
   "metadata": {},
   "source": []
  },
  {
   "cell_type": "markdown",
   "source": [
    "<h1> Partie 1 : Préparation des données  </h1>"
   ],
   "metadata": {
    "collapsed": false
   }
  },
  {
   "cell_type": "code",
   "execution_count": 73,
   "id": "364b6758",
   "metadata": {},
   "outputs": [
    {
     "name": "stdout",
     "output_type": "stream",
     "text": [
      "                 MODELE   PRIX  CYLINDREE  PUISSANCE  POIDS  CONSOMMATION\n",
      "0        Daihatsu Cuore  11600        846         32    650           5.7\n",
      "1   Suzuki Swift 1.0 GL  12490        993         39    790           5.8\n",
      "2    Fiat Panda Mambo L  10450        899         29    730           6.1\n",
      "3        VW Polo 1.4 60  17140       1390         44    955           6.5\n",
      "4   Opel Corsa 1.2i Eco  14825       1195         33    895           6.8\n",
      "5      Subaru Vivio 4WD  13730        658         32    740           6.8\n",
      "6        Toyota Corolla  19490       1331         55   1010           7.1\n",
      "7   Opel Astra 1.6i 16V  25000       1597         74   1080           7.4\n",
      "8    Peugeot 306 XS 108  22350       1761         74   1100           9.0\n",
      "9   Renault Safrane 2.2  36600       2165        101   1500          11.7\n",
      "10   Seat Ibiza 2.0 GTI  22500       1983         85   1075           9.5\n",
      "11      VW Golt 2.0 GTI  31580       1984         85   1155           9.5\n",
      "12   Citroen ZX Volcane  28750       1998         89   1140           8.8\n",
      "13  Fiat Tempra 1.6 Lib  22600       1580         65   1080           9.3\n",
      "14  Fort Escort 1.4i PT  20300       1390         54   1110           8.6\n",
      "15  Honda Civic Joker 1  19900       1396         66   1140           7.7\n",
      "16        Volvo 850 2.5  39800       2435        106   1370          10.8\n",
      "17  Ford Fiesta 1.2 Zet  19740       1242         55    940           6.6\n",
      "18  Hyundai Sonata 3000  38990       2972        107   1400          11.7\n",
      "19      Lancia K 3.0 LS  50800       2958        150   1550          11.9\n",
      "20    Mazda Hachtback V  36200       2497        122   1330          10.8\n",
      "21   Opel Omega 2.5i V6  47700       2496        125   1670          11.3\n",
      "22      Peugeot 806 2.0  36950       1998         89   1560          10.8\n",
      "23   Nissan Primera 2.0  26950       1997         92   1240           9.2\n",
      "24    Seat Alhambra 2.0  36400       1984         85   1635          11.6\n",
      "25  Toyota Previa salon  50900       2438         97   1800          12.8\n",
      "26  Volvo 960 Kombi aut  49300       2473        125   1570          12.7\n"
     ]
    }
   ],
   "source": [
    "# importation des donées\n",
    "car_file='cars.xls'\n",
    "datafile = pd.read_excel(car_file)\n",
    "print(datafile)"
   ]
  },
  {
   "cell_type": "code",
   "execution_count": 90,
   "id": "7c870cfd",
   "metadata": {},
   "outputs": [
    {
     "name": "stdout",
     "output_type": "stream",
     "text": [
      "<class 'pandas.core.frame.DataFrame'>\n",
      "RangeIndex: 27 entries, 0 to 26\n",
      "Data columns (total 6 columns):\n",
      " #   Column        Non-Null Count  Dtype  \n",
      "---  ------        --------------  -----  \n",
      " 0   MODELE        27 non-null     object \n",
      " 1   PRIX          27 non-null     int64  \n",
      " 2   CYLINDREE     27 non-null     int64  \n",
      " 3   PUISSANCE     27 non-null     int64  \n",
      " 4   POIDS         27 non-null     int64  \n",
      " 5   CONSOMMATION  27 non-null     float64\n",
      "dtypes: float64(1), int64(4), object(1)\n",
      "memory usage: 1.4+ KB\n"
     ]
    }
   ],
   "source": [
    "# dimension - nombre d'observation\n",
    "# nombre d'observation\n",
    "n=datafile.shape[0]\n",
    "p=datafile.shape[1]\n",
    "\n",
    "datafile.info()"
   ]
  },
  {
   "cell_type": "markdown",
   "source": [
    "<h2> Transformation de données en données centrées réduites </h2>"
   ],
   "metadata": {
    "collapsed": false
   }
  },
  {
   "cell_type": "code",
   "execution_count": 80,
   "outputs": [
    {
     "name": "stdout",
     "output_type": "stream",
     "text": [
      "[[-1.33429949 -1.50021892 -1.41128185 -1.73303054 -1.53814597]\n",
      " [-1.25938304 -1.26315617 -1.1885123  -1.2740832  -1.49142659]\n",
      " [-1.43110164 -1.41474732 -1.50675452 -1.47077492 -1.35126843]\n",
      " [-0.86796565 -0.62292548 -1.02939119 -0.73318098 -1.16439088]\n",
      " [-1.06283259 -0.93739648 -1.37945763 -0.9298727  -1.02423272]\n",
      " [-1.15500507 -1.80340121 -1.41128185 -1.43799297 -1.02423272]\n",
      " [-0.67015255 -0.71807312 -0.67932474 -0.55288024 -0.88407455]\n",
      " [-0.20634398 -0.28910243 -0.07466452 -0.32340657 -0.74391639]\n",
      " [-0.42940981 -0.02462426 -0.07466452 -0.25784267  0.0035938 ]\n",
      " [ 0.77009511  0.62689514  0.78458948  1.05343545  1.26501725]\n",
      " [-0.41678344  0.33338887  0.27540192 -0.33979755  0.23719073]\n",
      " [ 0.34753267  0.33500155  0.27540192 -0.07754193  0.23719073]\n",
      " [ 0.10931521  0.35757895  0.40269881 -0.12671486 -0.08984498]\n",
      " [-0.40836587 -0.31651785 -0.36108252 -0.32340657  0.14375196]\n",
      " [-0.60197017 -0.62292548 -0.71114897 -0.22506071 -0.18328375]\n",
      " [-0.63564048 -0.61324945 -0.3292583  -0.12671486 -0.60375823]\n",
      " [ 1.03945762  1.06231651  0.94371059  0.62727006  0.84454277]\n",
      " [-0.64910861 -0.8616009  -0.67932474 -0.78235391 -1.11767149]\n",
      " [ 0.97127523  1.92832125  0.97553481  0.72561592  1.26501725]\n",
      " [ 1.96539124  1.90574385  2.34397637  1.21734521  1.35845602]\n",
      " [ 0.7364248   1.16230216  1.45289814  0.49614225  0.84454277]\n",
      " [ 1.70444631  1.16068949  1.54837081  1.61072864  1.0781397 ]\n",
      " [ 0.79955664  0.35757895  0.40269881  1.25012716  0.84454277]\n",
      " [-0.04220121  0.35596628  0.49817148  0.20110467  0.09703257]\n",
      " [ 0.75325995  0.33500155  0.27540192  1.49599181  1.21829786]\n",
      " [ 1.97380882  1.06715453  0.65729259  2.03689403  1.77893051]]\n"
     ]
    }
   ],
   "source": [
    "# Z Tableau de données Centrée réduites\n",
    "Z = []\n",
    "for i in range(26):\n",
    "    Z.append(datafile.values[i][1:6])\n",
    "sc = StandardScaler().fit_transform(Z)\n",
    "print(sc)"
   ],
   "metadata": {
    "collapsed": false
   }
  },
  {
   "cell_type": "markdown",
   "source": [
    "<h1> Partie 2 : Analyse en composantes principales </h1>"
   ],
   "metadata": {
    "collapsed": false
   }
  },
  {
   "cell_type": "markdown",
   "id": "15432069",
   "metadata": {},
   "source": [
    "<h3> Instanciation et lancement des calculs </h3>"
   ]
  },
  {
   "cell_type": "code",
   "execution_count": 93,
   "outputs": [
    {
     "name": "stdout",
     "output_type": "stream",
     "text": [
      "5\n"
     ]
    }
   ],
   "source": [
    "ACP=PCA(svd_solver='full')\n",
    "# calculs\n",
    "coord = ACP.fit_transform(Z)\n",
    "# nombre de composantes calculées\n",
    "print(ACP.n_components_)"
   ],
   "metadata": {
    "collapsed": false
   }
  },
  {
   "cell_type": "markdown",
   "source": [
    "<h3> Calcule des valeurs propres λ, composante principale </h3>"
   ],
   "metadata": {
    "collapsed": false
   }
  },
  {
   "cell_type": "code",
   "execution_count": 94,
   "outputs": [
    {
     "name": "stdout",
     "output_type": "stream",
     "text": [
      "[1.47203823e+08 6.13832102e+04 9.75204569e+03 7.41084434e+01\n",
      " 3.36605811e-01]\n"
     ]
    }
   ],
   "source": [
    "# variances expliquée\n",
    "valeur_propre = ACP.explained_variance_\n",
    "print(valeur_propre)"
   ],
   "metadata": {
    "collapsed": false
   }
  },
  {
   "cell_type": "markdown",
   "source": [
    "<h3> La Deuxième composante accapare porte la plus d'information 90 % </h3>"
   ],
   "metadata": {
    "collapsed": false
   }
  },
  {
   "cell_type": "code",
   "execution_count": 102,
   "outputs": [
    {
     "name": "stdout",
     "output_type": "stream",
     "text": [
      "[9.99516485e-01 4.16793051e-04 6.62165577e-05 5.03197603e-07\n",
      " 2.28555924e-09]\n"
     ]
    }
   ],
   "source": [
    "print(ACP.explained_variance_ratio_)"
   ],
   "metadata": {
    "collapsed": false
   }
  },
  {
   "cell_type": "markdown",
   "id": "a9aafafe",
   "metadata": {},
   "source": [
    "<h1>Partie 3 : Représentation Graphique  </h1>"
   ]
  },
  {
   "cell_type": "code",
   "execution_count": 103,
   "outputs": [
    {
     "data": {
      "text/plain": "<Figure size 640x480 with 1 Axes>",
      "image/png": "[encoded data removed]"
     },
     "metadata": {},
     "output_type": "display_data"
    }
   ],
   "source": [
    "# screen plot\n",
    "x = [1, 2, 3 ,4 ,5]\n",
    "plt.plot(x ,valeur_propre)\n",
    "default_x_ticks = range(len(x))\n",
    "plt.xticks(default_x_ticks, x)\n",
    "plt.title(\"Représentation Graphique\")\n",
    "plt.ylabel(\"Valeur Propre\")\n",
    "plt.xlabel(\"Numéro de la composante \")\n",
    "plt.show()"
   ],
   "metadata": {
    "collapsed": false
   }
  },
  {
   "cell_type": "code",
   "execution_count": null,
   "outputs": [],
   "source": [],
   "metadata": {
    "collapsed": false
   }
  }
 ],
 "metadata": {
  "kernelspec": {
   "display_name": "Python 3 (ipykernel)",
   "language": "python",
   "name": "python3"
  },
  "language_info": {
   "codemirror_mode": {
    "name": "ipython",
    "version": 3
   },
   "file_extension": ".py",
   "mimetype": "text/x-python",
   "name": "python",
   "nbconvert_exporter": "python",
   "pygments_lexer": "ipython3",
   "version": "3.10.7"
  }
 },
 "nbformat": 4,
 "nbformat_minor": 5
}
